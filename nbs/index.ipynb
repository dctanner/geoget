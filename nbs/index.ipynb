{
 "cells": [
  {
   "cell_type": "markdown",
   "metadata": {},
   "source": [
    "# GeoGet\n",
    "\n",
    "> Utility functions to download geo data."
   ]
  },
  {
   "cell_type": "markdown",
   "metadata": {},
   "source": [
    "## Install"
   ]
  },
  {
   "cell_type": "markdown",
   "metadata": {},
   "source": [
    "`pip install geoget`"
   ]
  },
  {
   "cell_type": "markdown",
   "metadata": {},
   "source": [
    "## How to use"
   ]
  },
  {
   "cell_type": "markdown",
   "metadata": {},
   "source": [
    "Here is an example of a .bash file to download data from https://ladsweb.modaps.eosdis.nasa.gov/. The email and authentication token (auth) need to be defined in order for the script to work. To create an account and an authentication token visit ladsweb website.\n",
    "    \n",
    "```bash\n",
    "#!/bin/bash -l \n",
    "email=\"\"\n",
    "auth=\"\"\n",
    "bbox='-10 36 0 44'\n",
    "product=\"NPP_VMAES_L1\"\n",
    "collection=\"5000\"\n",
    "tstart=\"2017-10-27 00:00:00\"\n",
    "tend='2017-10-27 23:59:59'\n",
    "path_save=\"/srv/geoget/data\"\n",
    "bands=\"Reflectance_M5 Reflectance_M7 Reflectance_M10 Radiance_M12 Radiance_M15 SolarZenithAngle SatelliteZenithAngle\"\n",
    "\n",
    "geoget_ladsweb $product $collection \"$tstart\" \"$tend\" \"$bbox\" $email $auth $path_save \"$bands\" --repName \"GEO\" --repPixSize \"0.01\" --daynight \"D\"\n",
    "```"
   ]
  },
  {
   "cell_type": "markdown",
   "metadata": {},
   "source": [
    "**Note:** Library under development. Examples above were tested in Ubuntu 16.04 LTS."
   ]
  }
 ],
 "metadata": {
  "kernelspec": {
   "display_name": "Python 3",
   "language": "python",
   "name": "python3"
  }
 },
 "nbformat": 4,
 "nbformat_minor": 2
}
