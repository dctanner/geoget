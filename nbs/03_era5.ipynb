{
 "cells": [
  {
   "cell_type": "code",
   "execution_count": null,
   "metadata": {},
   "outputs": [],
   "source": [
    "# default_exp era5"
   ]
  },
  {
   "cell_type": "markdown",
   "metadata": {},
   "source": [
    "# ERA5\n",
    "\n",
    "> Functions to download era5 data"
   ]
  },
  {
   "cell_type": "code",
   "execution_count": null,
   "metadata": {},
   "outputs": [],
   "source": [
    "# hide\n",
    "from nbdev.showdoc import *\n",
    "from nbdev.export import notebook2script\n",
    "from IPython.core.debugger import set_trace"
   ]
  },
  {
   "cell_type": "code",
   "execution_count": null,
   "metadata": {},
   "outputs": [],
   "source": [
    "# export\n",
    "import cdsapi\n",
    "from netCDF4 import Dataset\n",
    "import matplotlib.pyplot as plt\n",
    "import numpy as np\n",
    "from geoget.geo import RegionST\n",
    "from concurrent.futures import ThreadPoolExecutor\n",
    "from tqdm import tqdm\n",
    "from functools import partial\n",
    "from pathlib import Path"
   ]
  },
  {
   "cell_type": "code",
   "execution_count": null,
   "metadata": {},
   "outputs": [],
   "source": [
    "# export\n",
    "def get_config(region:RegionST, variables:list, year:int):\n",
    "    months = region.times[region.times.year==year].strftime('%m').unique().values.tolist()\n",
    "    days = region.times[region.times.year==year].strftime('%d').unique().values.tolist()\n",
    "    times = region.times[region.times.year==year].strftime('%H:%M').unique().tolist()\n",
    "    bbox = [region.bbox.top, region.bbox.left, region.bbox.bottom, region.bbox.right]\n",
    "    config = {'format': 'netcdf', 'variable': variables, 'year': [str(year)], \n",
    "              'month': months, 'day': days, 'time': times, \n",
    "              'area': f'{\"/\".join([str(s) for s in bbox])}'} # North, West, South, East\n",
    "    return config\n",
    "\n",
    "def send_request(product:str, config:dict, filename:str):\n",
    "    c = cdsapi.Client()\n",
    "    print('Sending request')\n",
    "    c.retrieve(product, config, filename)\n",
    "    \n",
    "def fwi_set():\n",
    "    return ['10m_u_component_of_wind', '10m_v_component_of_wind', '2m_dewpoint_temperature',\n",
    "            '2m_temperature', 'surface_pressure', 'total_precipitation']\n",
    "\n",
    "def era5_get_year(year, region, save_path, variables, product):       \n",
    "    config = get_config(region, variables, year)\n",
    "    filename = save_path/f'{product}_{region.name}_{year}.nc'\n",
    "    r = send_request(product, config, str(filename))\n",
    "              \n",
    "def era5land_get(region, save_path, variables=fwi_set(), product='reanalysis-era5-land',\n",
    "                 max_workers=8):\n",
    "    f = partial(era5_get_year, region=region, save_path=save_path, variables=variables,\n",
    "                product=product)\n",
    "    years = region.times.year.unique().values\n",
    "    with ThreadPoolExecutor(max_workers) as e:\n",
    "        list(tqdm(e.map(f, years), total=len(years)))"
   ]
  },
  {
   "cell_type": "markdown",
   "metadata": {},
   "source": [
    "# Example of use\n",
    "```python\n",
    "region = RegionST('PT', [-10, 36, -6, 42], None, '2010-01-01', '2010-01-31', 'H')\n",
    "era5land_get(region, Path('ERA5'))\n",
    "```"
   ]
  },
  {
   "cell_type": "code",
   "execution_count": null,
   "metadata": {},
   "outputs": [
    {
     "name": "stdout",
     "output_type": "stream",
     "text": [
      "Converted 00_external.ipynb.\n",
      "Converted 01_download.ipynb.\n",
      "Converted 02_cli.ipynb.\n",
      "Converted 03_era5.ipynb.\n",
      "Converted 04_geo.ipynb.\n",
      "Converted 05_gfs.ipynb.\n",
      "Converted index.ipynb.\n"
     ]
    }
   ],
   "source": [
    "# hide\n",
    "notebook2script()"
   ]
  }
 ],
 "metadata": {
  "kernelspec": {
   "display_name": "Python (fastai_dev)",
   "language": "python",
   "name": "fastai_dev"
  }
 },
 "nbformat": 4,
 "nbformat_minor": 2
}
