{
 "cells": [
  {
   "cell_type": "code",
   "execution_count": null,
   "metadata": {},
   "outputs": [],
   "source": [
    "# default_exp download"
   ]
  },
  {
   "cell_type": "markdown",
   "metadata": {},
   "source": [
    "# Download\n",
    "\n",
    "> Functions to download remote sensing data"
   ]
  },
  {
   "cell_type": "code",
   "execution_count": null,
   "metadata": {},
   "outputs": [],
   "source": [
    "# export\n",
    "from netCDF4 import Dataset\n",
    "import matplotlib.pyplot as plt\n",
    "from pathlib import Path\n",
    "import pandas as pd\n",
    "from rasterio.coords import BoundingBox, disjoint_bounds\n",
    "import numpy as np\n",
    "import json\n",
    "import requests\n",
    "import warnings\n",
    "import re\n",
    "import os\n",
    "from time import sleep\n",
    "from fastprogress.fastprogress import progress_bar\n",
    "from nbdev.imports import test_eq"
   ]
  },
  {
   "cell_type": "code",
   "execution_count": null,
   "metadata": {},
   "outputs": [],
   "source": [
    "#hide\n",
    "from nbdev.showdoc import *\n",
    "from nbdev.export import notebook2script\n",
    "from IPython.core.debugger import set_trace"
   ]
  },
  {
   "cell_type": "code",
   "execution_count": null,
   "metadata": {},
   "outputs": [],
   "source": [
    "#export\n",
    "class Ladsweb():\n",
    "    def __init__(self, product:str, collection:str, tstart:str, tend:str,\n",
    "                 bbox:list, bands:list=None, coordsOrTiles:str=\"coords\", daynight:str=\"DNB\",\n",
    "                 repName:str='GEO', repPixSize:float=0.01, repResample:str='bilinear',\n",
    "                 doMosaic:str='False'):\n",
    "        self.product, self.collection = product, collection\n",
    "        self.tstart, self.tend, self.bbox, self.bands = tstart, tend, bbox, bands\n",
    "        self.coordsOrTiles, self.daynight, self.repName = coordsOrTiles, daynight, repName\n",
    "        self.repPixSize, self.repResample, self.doMosaic = repName, repPixSize, doMosaic\n",
    "        \n",
    "    def search_files(self):\n",
    "        \"Search for files for the product, region and time span given.\"\n",
    "        url = (f\"https://modwebsrv.modaps.eosdis.nasa.gov/axis2/services/MODAPSservices/\" + \n",
    "            f\"searchForFiles?product={self.product}&collection={self.collection}&\" + \n",
    "            f\"start={self.tstart}&stop={self.tend}&north={self.bbox[3]}&south={self.bbox[1]}\" + \n",
    "            f\"&west={self.bbox[0]}&east={self.bbox[2]}&coordsOrTiles={self.coordsOrTiles}\" +\n",
    "            f\"&dayNightBoth={self.daynight}\")\n",
    "        return ','.join(re.findall('<return>(.*?)</return>', requests.get(url).text))\n",
    "    \n",
    "    def send_order(self, ids=None, email=None):\n",
    "        \"Send order for a set of ids obtained with `search_files` method.\"\n",
    "        if email is None: raise Exception(\"`email` is not defined\")\n",
    "        bands = ','.join([self.product + f'___{b}' for b in self.bands])\n",
    "        url = (f\"http://modwebsrv.modaps.eosdis.nasa.gov/axis2/services/MODAPSservices/\" +\n",
    "            f\"orderFiles?fileIds={ids}\" + \n",
    "            f\"&subsetDataLayer={bands}\" + \n",
    "            f\"&geoSubsetNorth={self.bbox[3]}\" + \n",
    "            f\"&geoSubsetSouth={self.bbox[1]}\" + \n",
    "            f\"&geoSubsetEast={self.bbox[2]}\" + \n",
    "            f\"&geoSubsetWest={self.bbox[0]}\" + \n",
    "            f\"&reprojectionName={self.repName}\" +\n",
    "            f\"&reprojectionOutputPixelSize={self.repPixSize}\" + \n",
    "            f\"&reprojectionResampleType={self.repResample}\" +\n",
    "            f\"&doMosaic={self.doMosaic}\" + \n",
    "            f\"&email={email}\")\n",
    "        return re.findall('<return>(.*?)</return>', requests.get(url).text)[0]\n",
    "    \n",
    "    def order_status(self, orderId):\n",
    "        url = (f\"http://modwebsrv.modaps.eosdis.nasa.gov/axis2/services/MODAPSservices/\" +\n",
    "                f\"getOrderStatus?orderId={orderId}\")\n",
    "        return re.findall('<return>(.*?)</return>', requests.get(url).text)[0]\n",
    "\n",
    "    def download_files(self, orderId, path_save, auth=None):\n",
    "        \"Download files if the order is Available.\"\n",
    "        if auth is None: raise Exception(\"`auth` code is not defined\")\n",
    "        status = order_status(orderId)    \n",
    "        if order_status(orderId) != 'Available': \n",
    "            msg = f\"Order is not Available, current status is {status}\"\n",
    "            warnings.warn(msg, UserWarning)\n",
    "            return \n",
    "        command = ('wget -e robots=off -m -np -R .html,.tmp -nH --cut-dirs=3 '\n",
    "                + 'https://ladsweb.modaps.eosdis.nasa.gov/archive/orders/'\n",
    "                + f'{orderId}/ --header \"Authorization: Bearer {auth}\" -P {path_save}')\n",
    "        download = os.system(command)\n",
    "        return True\n",
    "        \n",
    "    def release_order(self, orderId, email=None):\n",
    "        if email is None: raise Exception(\"`email` is not defined\")\n",
    "        url = (f\"http://modwebsrv.modaps.eosdis.nasa.gov/axis2/services/MODAPSservices/\" +\n",
    "        f\"releaseOrder?orderId={orderId}&email={email}\")\n",
    "        status = re.findall('<return>(.*?)</return>', requests.get(url).text)[0]\n",
    "        return status == '1'"
   ]
  },
  {
   "cell_type": "code",
   "execution_count": null,
   "metadata": {},
   "outputs": [],
   "source": [
    "# Testing files search\n",
    "lads = Ladsweb(\n",
    "    product='NPP_VMAES_L1', \n",
    "    collection='5000', \n",
    "    tstart='2017-10-27 00:00:00',\n",
    "    tend='2017-10-27 23:59:59',\n",
    "    bbox=[-10,36,0,44],\n",
    "    daynight='D')\n",
    "\n",
    "test_eq(lads.search_files(), '2857074643,2857122490,2857117946')"
   ]
  },
  {
   "cell_type": "code",
   "execution_count": null,
   "metadata": {},
   "outputs": [
    {
     "name": "stdout",
     "output_type": "stream",
     "text": [
      "Converted 00_download.ipynb.\n",
      "Converted 01_cli.ipynb.\n",
      "Converted index.ipynb.\n"
     ]
    }
   ],
   "source": [
    "#hide\n",
    "notebook2script()"
   ]
  }
 ],
 "metadata": {
  "kernelspec": {
   "display_name": "Python 3",
   "language": "python",
   "name": "python3"
  }
 },
 "nbformat": 4,
 "nbformat_minor": 2
}
