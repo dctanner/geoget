{
 "cells": [
  {
   "cell_type": "code",
   "execution_count": null,
   "metadata": {},
   "outputs": [],
   "source": [
    "# default_exp cli"
   ]
  },
  {
   "cell_type": "markdown",
   "metadata": {},
   "source": [
    "# CLI tools\n",
    "> Command line tools"
   ]
  },
  {
   "cell_type": "code",
   "execution_count": null,
   "metadata": {},
   "outputs": [],
   "source": [
    "#export\n",
    "from pathlib import Path\n",
    "from fastscript import call_parse, Param\n",
    "from geoget.download import *"
   ]
  },
  {
   "cell_type": "code",
   "execution_count": null,
   "metadata": {},
   "outputs": [],
   "source": [
    "#hide\n",
    "from nbdev.showdoc import *\n",
    "from nbdev.export import notebook2script\n",
    "from IPython.core.debugger import set_trace"
   ]
  },
  {
   "cell_type": "code",
   "execution_count": null,
   "metadata": {},
   "outputs": [],
   "source": [
    "#export\n",
    "_repChoices=['ALBERS', 'GEO', 'LAMAZ', 'MERCAT', 'PS', 'ROBIN', 'SNSOID', 'TM', 'UTM']\n",
    "\n",
    "@call_parse\n",
    "def geoget_ladsweb(\n",
    "    product:Param(\"Name of the product\", str), \n",
    "    collection:Param(\"Collection number\", str), \n",
    "    tstart:Param(\"Start of serach window yyyy-mm-dd HH:MM:SS\", str), \n",
    "    tend:Param(\"End of search windo yyyy-mm-dd HH:MM:SS\", str),\n",
    "    bbox:Param(\"Bounding box in format left bottom right top\", list), \n",
    "    email:Param(\"ladsweb user email\", str)=None,\n",
    "    auth:Param(\"ladsweb user authentication key (go to Profile>App Keys)\", str)=None,\n",
    "    path_save:Param(\"Path to save the outputs of the request\", str)=None,\n",
    "    bands:Param(\"List of bands to download\", list)=None,\n",
    "    coordsOrTiles:Param(\"coordsOrTiles parameter\", str, choices=[\"coords\", \"tiles\"])=\"coords\", \n",
    "    daynight:Param(\"Select images for Day, Night or both\", str, choices=['D', 'N', 'DNB'])=\"DNB\",\n",
    "    repName:Param(\"Reprojection type\", str, choices=_repChoices)='GEO', \n",
    "    repPixSize:Param(\"Pixel size in units depending on the reprojection type\", float)=0.01, \n",
    "    repResample:Param(\"Resampling method\", str, choices=['bilinear', 'nearest'])='bilinear',\n",
    "    doMosaic:Param(\"\",str)='False',\n",
    "    searchOnly:Param(\"Set to true just to search for file ids\", bool)=False):\n",
    "    \n",
    "    kwargs = {key: value for key, value in locals().items()}\n",
    "    lads = Ladsweb(**kwargs)\n",
    "    ids = lads.search_files()\n",
    "    if len(ids) == 0: \n",
    "        warning.warn(\"No files found\", UserWarning)\n",
    "        return\n",
    "    if searchOnly: return ids\n",
    "    if email is None: raise Exception(\"The `email` is required to place an order\")\n",
    "    if bands is None: raise Exception(\"A list of `bands` is not defined\")\n",
    "    orderId = lads.send_order(ids, email)\n",
    "    try:\n",
    "        while status != 'Available':\n",
    "            status = order_status(orderId)\n",
    "            print(f\"Current status: {status}\")\n",
    "            sleep(60)\n",
    "    except KeyboardInterrupt:\n",
    "        raise Exception(\"KeaybordInterrupt\")\n",
    "    if auth is None: raise Exception(\"The `auth` key is required to download the files\")\n",
    "    if path_save is None: raise Exception(\"The `path_save` is not defined\")\n",
    "    Path(path_save).mkdir(exist_ok=True, parents=True)\n",
    "    status = lads.download_files(order_id, path_save, auth)\n",
    "    if status: result = lads.release_order(order_id, email)\n",
    "    if result: print(f'Process complete, files saved at {path_save}.')"
   ]
  },
  {
   "cell_type": "code",
   "execution_count": null,
   "metadata": {},
   "outputs": [
    {
     "name": "stdout",
     "output_type": "stream",
     "text": [
      "Converted 00_download.ipynb.\n",
      "Converted 01_cli.ipynb.\n",
      "Converted index.ipynb.\n"
     ]
    }
   ],
   "source": [
    "#hide\n",
    "notebook2script()"
   ]
  }
 ],
 "metadata": {
  "kernelspec": {
   "display_name": "Python (fastai_dev)",
   "language": "python",
   "name": "fastai_dev"
  }
 },
 "nbformat": 4,
 "nbformat_minor": 2
}
