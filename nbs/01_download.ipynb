{
 "cells": [
  {
   "cell_type": "code",
   "execution_count": null,
   "metadata": {},
   "outputs": [],
   "source": [
    "# default_exp download"
   ]
  },
  {
   "cell_type": "markdown",
   "metadata": {},
   "source": [
    "# Download\n",
    "\n",
    "> Functions to download remote sensing data"
   ]
  },
  {
   "cell_type": "code",
   "execution_count": null,
   "metadata": {},
   "outputs": [],
   "source": [
    "# export\n",
    "from netCDF4 import Dataset\n",
    "import matplotlib.pyplot as plt\n",
    "from pathlib import Path\n",
    "import pandas as pd\n",
    "from rasterio.coords import BoundingBox, disjoint_bounds\n",
    "import numpy as np\n",
    "import json\n",
    "import requests\n",
    "import warnings\n",
    "import re\n",
    "import os\n",
    "from fastprogress.fastprogress import progress_bar\n",
    "from nbdev.imports import test_eq\n",
    "from functools import partial\n",
    "from concurrent.futures import ThreadPoolExecutor\n",
    "from time import sleep\n",
    "\n",
    "from geoget.external import geturl"
   ]
  },
  {
   "cell_type": "code",
   "execution_count": null,
   "metadata": {},
   "outputs": [],
   "source": [
    "#hide\n",
    "from nbdev.showdoc import *\n",
    "from nbdev.export import notebook2script\n",
    "from IPython.core.debugger import set_trace"
   ]
  },
  {
   "cell_type": "code",
   "execution_count": null,
   "metadata": {},
   "outputs": [],
   "source": [
    "#export\n",
    "class Ladsweb():\n",
    "    def __init__(self, product:str, collection:str, tstart:str, tend:str,\n",
    "                 bbox:list, bands:list=None, coordsOrTiles:str=\"coords\", daynight:str=\"DNB\",\n",
    "                 repName:str='GEO', repPixSize:float=0.01, repResample:str='bilinear',\n",
    "                 doMosaic:str='False', **kwargs):\n",
    "        self.product, self.collection = product, collection\n",
    "        self.tstart, self.tend, self.bbox, self.bands = tstart, tend, bbox, bands\n",
    "        self.coordsOrTiles, self.daynight, self.repName = coordsOrTiles, daynight, repName\n",
    "        self.repPixSize, self.repResample, self.doMosaic = repPixSize, repResample, doMosaic\n",
    "        self._maxOrderSize, self.max_parallel = 1800, 4\n",
    "        \n",
    "    def search_files(self):\n",
    "        \"Search for files for the product, region and time span given.\"\n",
    "        url = (f\"https://modwebsrv.modaps.eosdis.nasa.gov/axis2/services/MODAPSservices/\" + \n",
    "            f\"searchForFiles?product={self.product}&collection={self.collection}&\" + \n",
    "            f\"start={self.tstart}&stop={self.tend}&north={self.bbox[3]}&south={self.bbox[1]}\" + \n",
    "            f\"&west={self.bbox[0]}&east={self.bbox[2]}&coordsOrTiles={self.coordsOrTiles}\" +\n",
    "            f\"&dayNightBoth={self.daynight}\")\n",
    "        return re.findall('<return>(.*?)</return>', requests.get(url).text)\n",
    "    \n",
    "    def order_size(self):\n",
    "        \"Calculates the number of files in the order.\"\n",
    "        if self.bands is None: \n",
    "            raise Exception(\"`bands` list required to calculate order_size.\")\n",
    "        return len(self.search_files())*len(self.bands)\n",
    "    \n",
    "    def split_times(self):\n",
    "        \"Split a single order into multiple orders if the order size is too large.\"\n",
    "        order_size = self.order_size()\n",
    "        n_splits = order_size // self._maxOrderSize + 1\n",
    "        times = pd.date_range(self.tstart, self.tend)\n",
    "        splits = np.split(times, n_splits)\n",
    "        times = [(str(t[0]), str(t[-1]+pd.Timedelta(days=1-1e-5).round('s'))) for t in splits]\n",
    "        tstart, tend = zip(*times)\n",
    "        kwargs = self.__dict__\n",
    "        group = []\n",
    "        for ti, tf in zip(tstart, tend):\n",
    "            kwargs['tstart'], kwargs['tend'] = ti, tf\n",
    "            group.append(Ladsweb(**kwargs))\n",
    "        return group\n",
    "    \n",
    "    def send_order(self, ids, email=None):\n",
    "        \"Send order for a set of ids obtained with `search_files` method.\"\n",
    "        if email is None: raise Exception(\"`email` is not defined\")\n",
    "        ids = ','.join(ids)\n",
    "        bands = ','.join([self.product + f'___{b}' for b in self.bands])\n",
    "        url = (f\"http://modwebsrv.modaps.eosdis.nasa.gov/axis2/services/MODAPSservices/\" +\n",
    "            f\"orderFiles?fileIds={ids}\" + \n",
    "            f\"&subsetDataLayer={bands}\" + \n",
    "            f\"&geoSubsetNorth={self.bbox[3]}\" + \n",
    "            f\"&geoSubsetSouth={self.bbox[1]}\" + \n",
    "            f\"&geoSubsetEast={self.bbox[2]}\" + \n",
    "            f\"&geoSubsetWest={self.bbox[0]}\" + \n",
    "            f\"&reprojectionName={self.repName}\" +\n",
    "            f\"&reprojectionOutputPixelSize={self.repPixSize}\" + \n",
    "            f\"&reprojectionResampleType={self.repResample}\" +\n",
    "            f\"&doMosaic={self.doMosaic}\" + \n",
    "            f\"&email={email}\")\n",
    "        return re.findall('<return>(.*?)</return>', requests.get(url).text)[0]\n",
    "    \n",
    "    def order_status(self, orderId):\n",
    "        url = (f\"http://modwebsrv.modaps.eosdis.nasa.gov/axis2/services/MODAPSservices/\" +\n",
    "                f\"getOrderStatus?orderId={orderId}\")\n",
    "        return re.findall('<return>(.*?)</return>', requests.get(url).text)[0]\n",
    "\n",
    "    def download_files(self, orderId, path_save, auth=None):\n",
    "        \"Download files if the order is Available.\"\n",
    "        if auth is None: raise Exception(\"`auth` code is not defined\")\n",
    "        status = self.order_status(orderId)\n",
    "        if status != 'Available': \n",
    "            msg = f\"Order is not Available, current status is {status}\"\n",
    "            warnings.warn(msg, UserWarning)\n",
    "            return \n",
    "        url = f'https://ladsweb.modaps.eosdis.nasa.gov/archive/orders/{orderId}'\n",
    "        files = pd.DataFrame(json.loads(geturl(url + '.json', auth)))\n",
    "        checksums = geturl(url + f'/checksums_{orderId}', auth)\n",
    "        hdfs = re.findall('(.*?.hdf)', checksums)\n",
    "        ch = [tuple([k for k in h.split(' ') if k != '']) for h in hdfs]\n",
    "        check_df = pd.DataFrame(ch, columns=['checksum', 'size', 'name'])\n",
    "        check_df = check_df.drop('size', axis=1)\n",
    "        files = pd.merge(files, check_df, how='left', on='name')\n",
    "        files['verified'] = False\n",
    "\n",
    "        for i in progress_bar(range(len(files))):\n",
    "            file, checksum = files.loc[i, ['name', 'checksum']]\n",
    "            n_tries = 0\n",
    "            while ~files.loc[i, 'verified'] and n_tries<5:\n",
    "                #print(f'Downloading {file}')\n",
    "                with open(path_save/f'{file}', mode='w+b') as fh:\n",
    "                    geturl(f'{url}/{file}', auth, fh)\n",
    "                csum = os.popen(f'cksum {str(path_save)}/{file}').read().split(' ')[0]\n",
    "                if str(checksum) == 'nan': checksum = csum\n",
    "                files.loc[i, 'verified'] = checksum == csum \n",
    "                n_tries += 1\n",
    "        log_file = f'download_log_{orderId}.csv'\n",
    "        files.to_csv(path_save/log_file)\n",
    "        not_verified = np.sum(~files.verified)\n",
    "        if not_verified > 0:\n",
    "            msg = f\"Checksum failed for {not_verified} files. Check the {log_file}.\"\n",
    "            warnings.warn(msg, UserWarning)\n",
    "        return not_verified\n",
    "    \n",
    "    def release_order(self, orderId, email=None):\n",
    "        \"To release order after download the files.\"\n",
    "        if email is None: raise Exception(\"`email` is not defined\")\n",
    "        url = (f\"http://modwebsrv.modaps.eosdis.nasa.gov/axis2/services/MODAPSservices/\" +\n",
    "        f\"releaseOrder?orderId={orderId}&email={email}\")\n",
    "        status = re.findall('<return>(.*?)</return>', requests.get(url).text)[0]\n",
    "        return status == '1'\n",
    "    \n",
    "    def run(self, path_save, email, auth):\n",
    "        \"Run a complete request from search_files to release_order.\"\n",
    "        ids = self.search_files()\n",
    "        if len(ids) == 0: \n",
    "            warnings.warn(\"No files found\", UserWarning)\n",
    "            return\n",
    "        if email is None: raise Exception(\"The `email` is required to place an order\")\n",
    "        if self.bands is None: raise Exception(\"A list of `bands` is not defined\")\n",
    "        orderId = self.send_order(ids, email)\n",
    "        try:\n",
    "            status = None\n",
    "            while status != 'Available':\n",
    "                status = self.order_status(orderId)\n",
    "                print(f\"Current status: {status}\")\n",
    "                sleep(60)\n",
    "        except KeyboardInterrupt:\n",
    "            raise Exception(\"KeaybordInterrupt\")\n",
    "        if auth is None: raise Exception(\"The `auth` key is required to download the files\")\n",
    "        if path_save is None: raise Exception(\"The `path_save` is not defined\")\n",
    "        path_save = Path(path_save)\n",
    "        path_save.mkdir(exist_ok=True, parents=True)\n",
    "        print(\"Waiting 5 min to start download...\")\n",
    "        sleep(60*5)\n",
    "        status = self.download_files(orderId, path_save, auth)\n",
    "        if status==0: result = self.release_order(orderId, email)\n",
    "        if result: print(f'Process complete, files saved at {path_save}.')\n",
    "    \n",
    "    def __repr__(self):\n",
    "        s = ''\n",
    "        for k in self.__dict__:\n",
    "            s += f'{k}: {self.__dict__[k]}, '\n",
    "        return s + '\\n'"
   ]
  },
  {
   "cell_type": "code",
   "execution_count": null,
   "metadata": {},
   "outputs": [
    {
     "data": {
      "text/markdown": [
       "<h4 id=\"Ladsweb.search_files\" class=\"doc_header\"><code>Ladsweb.search_files</code><a href=\"__main__.py#L15\" class=\"source_link\" style=\"float:right\">[source]</a></h4>\n",
       "\n",
       "> <code>Ladsweb.search_files</code>()\n",
       "\n",
       "Search for files for the product, region and time span given."
      ],
      "text/plain": [
       "<IPython.core.display.Markdown object>"
      ]
     },
     "metadata": {},
     "output_type": "display_data"
    }
   ],
   "source": [
    "show_doc(Ladsweb.search_files)"
   ]
  },
  {
   "cell_type": "code",
   "execution_count": null,
   "metadata": {},
   "outputs": [],
   "source": [
    "# Testing files search\n",
    "lads = Ladsweb(\n",
    "    product='NPP_VMAES_L1', \n",
    "    collection='5000', \n",
    "    tstart='2017-10-27 00:00:00',\n",
    "    tend='2017-10-27 23:59:59',\n",
    "    bbox=[-10,36,0,44], # left bottom right top\n",
    "    daynight='D') # D N DNB\n",
    "\n",
    "test_eq(','.join(lads.search_files()), '2857074643,2857122490,2857117946')"
   ]
  },
  {
   "cell_type": "code",
   "execution_count": null,
   "metadata": {},
   "outputs": [
    {
     "data": {
      "text/markdown": [
       "<h4 id=\"Ladsweb.order_size\" class=\"doc_header\"><code>Ladsweb.order_size</code><a href=\"__main__.py#L24\" class=\"source_link\" style=\"float:right\">[source]</a></h4>\n",
       "\n",
       "> <code>Ladsweb.order_size</code>()\n",
       "\n",
       "Calculates the number of files in the order."
      ],
      "text/plain": [
       "<IPython.core.display.Markdown object>"
      ]
     },
     "metadata": {},
     "output_type": "display_data"
    },
    {
     "data": {
      "text/markdown": [
       "<h4 id=\"Ladsweb.split_times\" class=\"doc_header\"><code>Ladsweb.split_times</code><a href=\"__main__.py#L30\" class=\"source_link\" style=\"float:right\">[source]</a></h4>\n",
       "\n",
       "> <code>Ladsweb.split_times</code>()\n",
       "\n",
       "Split a single order into multiple orders if the order size is too large."
      ],
      "text/plain": [
       "<IPython.core.display.Markdown object>"
      ]
     },
     "metadata": {},
     "output_type": "display_data"
    },
    {
     "data": {
      "text/markdown": [
       "<h4 id=\"Ladsweb.send_order\" class=\"doc_header\"><code>Ladsweb.send_order</code><a href=\"__main__.py#L45\" class=\"source_link\" style=\"float:right\">[source]</a></h4>\n",
       "\n",
       "> <code>Ladsweb.send_order</code>(**`ids`**, **`email`**=*`None`*)\n",
       "\n",
       "Send order for a set of ids obtained with `search_files` method."
      ],
      "text/plain": [
       "<IPython.core.display.Markdown object>"
      ]
     },
     "metadata": {},
     "output_type": "display_data"
    },
    {
     "data": {
      "text/markdown": [
       "<h4 id=\"Ladsweb.download_files\" class=\"doc_header\"><code>Ladsweb.download_files</code><a href=\"__main__.py#L69\" class=\"source_link\" style=\"float:right\">[source]</a></h4>\n",
       "\n",
       "> <code>Ladsweb.download_files</code>(**`orderId`**, **`path_save`**, **`auth`**=*`None`*)\n",
       "\n",
       "Download files if the order is Available."
      ],
      "text/plain": [
       "<IPython.core.display.Markdown object>"
      ]
     },
     "metadata": {},
     "output_type": "display_data"
    },
    {
     "data": {
      "text/markdown": [
       "<h4 id=\"Ladsweb.release_order\" class=\"doc_header\"><code>Ladsweb.release_order</code><a href=\"__main__.py#L106\" class=\"source_link\" style=\"float:right\">[source]</a></h4>\n",
       "\n",
       "> <code>Ladsweb.release_order</code>(**`orderId`**, **`email`**=*`None`*)\n",
       "\n",
       "To release order after download the files."
      ],
      "text/plain": [
       "<IPython.core.display.Markdown object>"
      ]
     },
     "metadata": {},
     "output_type": "display_data"
    },
    {
     "data": {
      "text/markdown": [
       "<h4 id=\"Ladsweb.run\" class=\"doc_header\"><code>Ladsweb.run</code><a href=\"__main__.py#L114\" class=\"source_link\" style=\"float:right\">[source]</a></h4>\n",
       "\n",
       "> <code>Ladsweb.run</code>(**`path_save`**, **`email`**, **`auth`**)\n",
       "\n",
       "Run a complete request from search_files to release_order."
      ],
      "text/plain": [
       "<IPython.core.display.Markdown object>"
      ]
     },
     "metadata": {},
     "output_type": "display_data"
    }
   ],
   "source": [
    "show_doc(Ladsweb.order_size)\n",
    "show_doc(Ladsweb.split_times)\n",
    "show_doc(Ladsweb.send_order)\n",
    "show_doc(Ladsweb.download_files)\n",
    "show_doc(Ladsweb.release_order)\n",
    "show_doc(Ladsweb.run)"
   ]
  },
  {
   "cell_type": "code",
   "execution_count": null,
   "metadata": {},
   "outputs": [],
   "source": [
    "#export\n",
    "def run_parallel(obj_list, path_save, email, auth, max_workers=8):\n",
    "    \"Run a list of requests in parallel.\"\n",
    "    obj_list = [partial(obj.run, path_save=path_save, email=email, auth=auth)\n",
    "                for obj in obj_list]\n",
    "    with ThreadPoolExecutor(max_workers) as e:\n",
    "        list(progress_bar(e.map(lambda x:x(), obj_list), total=len(obj_list)))"
   ]
  },
  {
   "cell_type": "code",
   "execution_count": null,
   "metadata": {},
   "outputs": [
    {
     "name": "stdout",
     "output_type": "stream",
     "text": [
      "Converted 00_external.ipynb.\n",
      "Converted 01_download.ipynb.\n",
      "Converted 02_cli.ipynb.\n",
      "Converted index.ipynb.\n"
     ]
    }
   ],
   "source": [
    "#hide\n",
    "notebook2script()"
   ]
  },
  {
   "cell_type": "code",
   "execution_count": null,
   "metadata": {},
   "outputs": [],
   "source": []
  }
 ],
 "metadata": {
  "kernelspec": {
   "display_name": "Python 3",
   "language": "python",
   "name": "python3"
  }
 },
 "nbformat": 4,
 "nbformat_minor": 2
}
